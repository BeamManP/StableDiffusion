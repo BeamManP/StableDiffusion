{
  "nbformat": 4,
  "nbformat_minor": 0,
  "metadata": {
    "colab": {
      "provenance": [],
      "collapsed_sections": [],
      "machine_shape": "hm",
      "include_colab_link": true
    },
    "kernelspec": {
      "name": "python3",
      "display_name": "Python 3"
    },
    "language_info": {
      "name": "python"
    },
    "accelerator": "GPU",
    "gpuClass": "standard"
  },
  "cells": [
    {
      "cell_type": "markdown",
      "metadata": {
        "id": "view-in-github",
        "colab_type": "text"
      },
      "source": [
        "<a href=\"https://colab.research.google.com/github/BeamManP/StableDiffusion/blob/main/finetune_stable_output.ipynb\" target=\"_parent\"><img src=\"https://colab.research.google.com/assets/colab-badge.svg\" alt=\"Open In Colab\"/></a>"
      ]
    },
    {
      "cell_type": "markdown",
      "source": [
        "# Finetune Stable Diffusion\n",
        "Stable Diffusionをファインチューニングするためのnotebookです。<br>\n",
        "GPU・ハイメモリ設定を前提としています"
      ],
      "metadata": {
        "id": "teqILGwVFIoV"
      }
    },
    {
      "cell_type": "code",
      "source": [
        "!pip install -e git+https://github.com/CompVis/taming-transformers.git@master#egg=taming-transformers\n",
        "!pip install -e .\n",
        "!pip install pytorch_lightning tensorboard==2.8 omegaconf einops taming-transformers==0.0.1 clip transformers kornia pip install test-tube"
      ],
      "metadata": {
        "id": "1iTa4_zMMFYd"
      },
      "execution_count": null,
      "outputs": []
    },
    {
      "cell_type": "code",
      "execution_count": null,
      "metadata": {
        "id": "Ujz7Wb7aFGTt"
      },
      "outputs": [],
      "source": [
        "!git clone https://github.com/rinongal/textual_inversion.git\n",
        "%cd textual_inversion\n",
        "%mkdir checkpoint inputs outputs"
      ]
    },
    {
      "cell_type": "code",
      "source": [
        "# Google Driveにマウントします。\n",
        "# ディレクトリが異なる場合、適宜書き換えてください。\n",
        "from google.colab import drive\n",
        "drive.mount('/content/textual_inversion/checkpoint')"
      ],
      "metadata": {
        "id": "qx-6hfGS-0O4",
        "colab": {
          "base_uri": "https://localhost:8080/"
        },
        "outputId": "1f45c1dc-94fc-4955-dca4-69b770104791"
      },
      "execution_count": 3,
      "outputs": [
        {
          "output_type": "stream",
          "name": "stdout",
          "text": [
            "Mounted at /content/textual_inversion/checkpoint\n"
          ]
        }
      ]
    },
    {
      "cell_type": "markdown",
      "source": [
        "# Inference\n",
        "`--embedding_path`と`--config`は適当なパスを割り当ててください<br>\n",
        "プロンプトを考える際は、「*」という文字が学習させた概念を持っていることに留意して適当に考えてください\n",
        "\n"
      ],
      "metadata": {
        "id": "bSujzt-jS_Us"
      }
    },
    {
      "cell_type": "code",
      "source": [
        "#出力フォルダ削除\n",
        "import shutil\n",
        "\n",
        "directory = 'outputs'\n",
        "\n",
        "try:\n",
        "    shutil.rmtree(directory)\n",
        "except FileNotFoundError:\n",
        "    pass"
      ],
      "metadata": {
        "id": "vEIaDtNa8CTL"
      },
      "execution_count": 11,
      "outputs": []
    },
    {
      "cell_type": "code",
      "source": [
        "!python3 stable_txt2img.py \\\n",
        "    --ddim_eta 0.0 --n_samples 1 --n_iter 1 --scale 4.0 --ddim_steps 100 \\\n",
        "    --embedding_path ./tuningdata/embeddings.pt \\\n",
        "    --ckpt ./checkpoint/MyDrive/sd-v1-4.ckpt \\\n",
        "    --config ./tuningdata/project.yaml \\\n",
        "    --prompt \"* standing in forest,kawaii,girl\" #--prompt \"a girl in the style of *\""
      ],
      "metadata": {
        "id": "ojx-t1lWVerf"
      },
      "execution_count": null,
      "outputs": []
    },
    {
      "cell_type": "code",
      "source": [
        "!zip -r /content/outputs.zip /content/textual_inversion/outputs/txt2img-samples/\n",
        "# ダウンロードしたいフォルダを zip 圧縮する\n",
        "!zip -r /content/download_outputs.zip /content/textual_inversion/outputs/txt2img-samples/\n",
        "\n",
        "# 圧縮した zip ファイルをダウンロードする\n",
        "from google.colab import files\n",
        "files.download(\"/content/download_outputs.zip\")"
      ],
      "metadata": {
        "colab": {
          "base_uri": "https://localhost:8080/",
          "height": 156
        },
        "id": "B-3KZTPiY8h7",
        "outputId": "b6e345bf-87ea-4e4d-f82c-33449eee5a75"
      },
      "execution_count": 10,
      "outputs": [
        {
          "output_type": "stream",
          "name": "stdout",
          "text": [
            "  adding: content/textual_inversion/outputs/txt2img-samples/ (stored 0%)\n",
            "  adding: content/textual_inversion/outputs/txt2img-samples/*-standing-in-forest,kawaii,girl-0000.jpg (deflated 0%)\n",
            "  adding: content/textual_inversion/outputs/txt2img-samples/samples/ (stored 0%)\n",
            "  adding: content/textual_inversion/outputs/txt2img-samples/samples/00000.jpg (deflated 0%)\n",
            "  adding: content/textual_inversion/outputs/txt2img-samples/ (stored 0%)\n",
            "  adding: content/textual_inversion/outputs/txt2img-samples/*-standing-in-forest,kawaii,girl-0000.jpg (deflated 0%)\n",
            "  adding: content/textual_inversion/outputs/txt2img-samples/samples/ (stored 0%)\n",
            "  adding: content/textual_inversion/outputs/txt2img-samples/samples/00000.jpg (deflated 0%)\n"
          ]
        },
        {
          "output_type": "display_data",
          "data": {
            "text/plain": [
              "<IPython.core.display.Javascript object>"
            ],
            "application/javascript": [
              "\n",
              "    async function download(id, filename, size) {\n",
              "      if (!google.colab.kernel.accessAllowed) {\n",
              "        return;\n",
              "      }\n",
              "      const div = document.createElement('div');\n",
              "      const label = document.createElement('label');\n",
              "      label.textContent = `Downloading \"${filename}\": `;\n",
              "      div.appendChild(label);\n",
              "      const progress = document.createElement('progress');\n",
              "      progress.max = size;\n",
              "      div.appendChild(progress);\n",
              "      document.body.appendChild(div);\n",
              "\n",
              "      const buffers = [];\n",
              "      let downloaded = 0;\n",
              "\n",
              "      const channel = await google.colab.kernel.comms.open(id);\n",
              "      // Send a message to notify the kernel that we're ready.\n",
              "      channel.send({})\n",
              "\n",
              "      for await (const message of channel.messages) {\n",
              "        // Send a message to notify the kernel that we're ready.\n",
              "        channel.send({})\n",
              "        if (message.buffers) {\n",
              "          for (const buffer of message.buffers) {\n",
              "            buffers.push(buffer);\n",
              "            downloaded += buffer.byteLength;\n",
              "            progress.value = downloaded;\n",
              "          }\n",
              "        }\n",
              "      }\n",
              "      const blob = new Blob(buffers, {type: 'application/binary'});\n",
              "      const a = document.createElement('a');\n",
              "      a.href = window.URL.createObjectURL(blob);\n",
              "      a.download = filename;\n",
              "      div.appendChild(a);\n",
              "      a.click();\n",
              "      div.remove();\n",
              "    }\n",
              "  "
            ]
          },
          "metadata": {}
        },
        {
          "output_type": "display_data",
          "data": {
            "text/plain": [
              "<IPython.core.display.Javascript object>"
            ],
            "application/javascript": [
              "download(\"download_043a8727-6708-4a40-9937-31fb180c2fc4\", \"download_outputs.zip\", 120230)"
            ]
          },
          "metadata": {}
        }
      ]
    }
  ]
}